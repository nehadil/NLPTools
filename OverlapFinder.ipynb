{
 "cells": [
  {
   "cell_type": "code",
   "execution_count": 16,
   "metadata": {},
   "outputs": [
    {
     "ename": "FileNotFoundError",
     "evalue": "[Errno 2] No such file or directory: '/home/jeff/Desktop/duration.txt'",
     "output_type": "error",
     "traceback": [
      "\u001b[0;31m---------------------------------------------------------------------------\u001b[0m",
      "\u001b[0;31mFileNotFoundError\u001b[0m                         Traceback (most recent call last)",
      "\u001b[0;32m<ipython-input-16-0cdb18aada5a>\u001b[0m in \u001b[0;36m<module>\u001b[0;34m()\u001b[0m\n\u001b[1;32m      4\u001b[0m \u001b[0;32mfrom\u001b[0m \u001b[0mplotly\u001b[0m\u001b[0;34m.\u001b[0m\u001b[0moffline\u001b[0m \u001b[0;32mimport\u001b[0m \u001b[0mplot\u001b[0m\u001b[0;34m,\u001b[0m \u001b[0miplot\u001b[0m\u001b[0;34m\u001b[0m\u001b[0m\n\u001b[1;32m      5\u001b[0m \u001b[0;34m\u001b[0m\u001b[0m\n\u001b[0;32m----> 6\u001b[0;31m \u001b[0mdurationfile\u001b[0m \u001b[0;34m=\u001b[0m \u001b[0mopen\u001b[0m\u001b[0;34m(\u001b[0m\u001b[0;34m\"/home/jeff/Desktop/duration.txt\"\u001b[0m\u001b[0;34m,\u001b[0m\u001b[0;34m\"r\"\u001b[0m\u001b[0;34m)\u001b[0m\u001b[0;34m\u001b[0m\u001b[0m\n\u001b[0m\u001b[1;32m      7\u001b[0m \u001b[0mfreqfile\u001b[0m \u001b[0;34m=\u001b[0m \u001b[0mopen\u001b[0m\u001b[0;34m(\u001b[0m\u001b[0;34m\"/home/jeff/Desktop/freq.txt\"\u001b[0m\u001b[0;34m,\u001b[0m\u001b[0;34m\"r\"\u001b[0m\u001b[0;34m)\u001b[0m\u001b[0;34m\u001b[0m\u001b[0m\n\u001b[1;32m      8\u001b[0m \u001b[0mdurationtrace\u001b[0m \u001b[0;34m=\u001b[0m \u001b[0;34m{\u001b[0m\u001b[0;34m}\u001b[0m\u001b[0;34m\u001b[0m\u001b[0m\n",
      "\u001b[0;31mFileNotFoundError\u001b[0m: [Errno 2] No such file or directory: '/home/jeff/Desktop/duration.txt'"
     ]
    }
   ],
   "source": [
    "import glob\n",
    "import plotly.plotly as py\n",
    "import plotly.graph_objs as go\n",
    "from plotly.offline import plot, iplot\n",
    "\n",
    "durationfile = open(\"/home/jeff/Desktop/duration.txt\",\"r\")\n",
    "freqfile = open(\"/home/jeff/Desktop/freq.txt\",\"r\")\n",
    "durationtrace = {}\n",
    "freqtrace = {}\n",
    "for line in durationfile:\n",
    "    toks = line.split()\n",
    "    num = toks[0].split(\":\")[0]\n",
    "    \n",
    "    pos = 1\n",
    "    text=\"\"\n",
    "    while pos<len(toks):\n",
    "        text = text + toks[pos]\n",
    "        if pos!= len(toks)-1:\n",
    "            text = text + \" \"\n",
    "        pos = pos + 1\n",
    "    \n",
    "    durationtrace[text] = num\n",
    "\n",
    "for line in freqfile:\n",
    "    toks = line.split()\n",
    "    num = toks[0].split(\":\")[0]\n",
    "    \n",
    "    pos = 1\n",
    "    text=\"\"\n",
    "    while pos<len(toks):\n",
    "        text = text + toks[pos]\n",
    "        if pos!= len(toks)-1:\n",
    "            text = text + \" \"\n",
    "        pos = pos + 1\n",
    "    \n",
    "    freqtrace[text] = num\n",
    "print(\"routes:\",formtrace)\n",
    "routex = []\n",
    "routey = []\n",
    "formx = []\n",
    "formy = []\n",
    "\n",
    "for thing in durationtrace:\n",
    "    routex.append(thing)\n",
    "    routey.append(durationtrace[thing])\n",
    "for thing in freqtrace:\n",
    "    formx.append(thing)\n",
    "    formy.append(freqtrace[thing])\n",
    "rtrace = go.Bar(x=routex,y=routey,name=\"Duration\")\n",
    "ftrace = go.Bar(x=formx,y=formy,name=\"Frequency\")\n",
    "\n",
    "layout = go.Layout(\n",
    "    barmode='group'\n",
    ")\n",
    "fig = go.Figure(data = [rtrace,ftrace], layout = layout)\n",
    "plot(fig)\n",
    "    \n",
    "\n",
    "durationfile.close()\n",
    "freqfile.close()"
   ]
  }
 ],
 "metadata": {
  "kernelspec": {
   "display_name": "Python 3",
   "language": "python",
   "name": "python3"
  },
  "language_info": {
   "codemirror_mode": {
    "name": "ipython",
    "version": 3
   },
   "file_extension": ".py",
   "mimetype": "text/x-python",
   "name": "python",
   "nbconvert_exporter": "python",
   "pygments_lexer": "ipython3",
   "version": "3.6.5"
  }
 },
 "nbformat": 4,
 "nbformat_minor": 2
}
